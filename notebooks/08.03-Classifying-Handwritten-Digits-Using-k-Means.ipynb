{
 "cells": [
  {
   "cell_type": "markdown",
   "metadata": {
    "deletable": true,
    "editable": true
   },
   "source": [
    "<!--BOOK_INFORMATION-->\n",
    "<a href=\"https://www.packtpub.com/big-data-and-business-intelligence/machine-learning-opencv\" target=\"_blank\"><img align=\"left\" src=\"data/cover.jpg\" style=\"width: 76px; height: 100px; background: white; padding: 1px; border: 1px solid black; margin-right:10px;\"></a>\n",
    "*This notebook contains an excerpt from the book [Machine Learning for OpenCV](https://www.packtpub.com/big-data-and-business-intelligence/machine-learning-opencv) by Michael Beyeler.\n",
    "The code is released under the [MIT license](https://opensource.org/licenses/MIT),\n",
    "and is available on [GitHub](https://github.com/mbeyeler/opencv-machine-learning).*\n",
    "\n",
    "*Note that this excerpt contains only the raw code - the book is rich with additional explanations and illustrations.\n",
    "If you find this content useful, please consider supporting the work by\n",
    "[buying the book](https://www.packtpub.com/big-data-and-business-intelligence/machine-learning-opencv)!*"
   ]
  },
  {
   "cell_type": "markdown",
   "metadata": {
    "deletable": true,
    "editable": true
   },
   "source": [
    "<!--NAVIGATION-->\n",
    "< [Compressing Color Spaces Using k-Means](08.02-Compressing-Color-Images-Using-k-Means.ipynb) | [Contents](../README.md) | [Implementing Agglomerative Hierarchical Clustering](08.04-Implementing-Agglomerative-Hierarchical-Clustering.ipynb) >"
   ]
  },
  {
   "cell_type": "markdown",
   "metadata": {},
   "source": [
    "# Classifying handwritten digits using k-means\n",
    "\n",
    "Although the last application was a pretty creative use of $k$-means, we can do better still.\n",
    "We have previously discussed k-means in the context of unsupervised learning, where we\n",
    "tried to discover some hidden structure in the data.\n",
    "\n",
    "However, doesn't the same concept apply to most classification tasks? Let's say our task was\n",
    "to classify handwritten digits. Don't most zeros look similar, if not the same? And don't all\n",
    "zeros look categorically different from all possible ones? Isn't this exactly the kind of\n",
    "\"hidden structure\" we set out to discover with unsupervised learning? Doesn't this mean we\n",
    "could use clustering for classification as well?\n",
    "\n",
    "Let's find out together. In this section, we will attempt to use k-means to try and classify\n",
    "handwritten digits. In other words, we will try to identify similar digits without using the\n",
    "original label information."
   ]
  },
  {
   "cell_type": "markdown",
   "metadata": {},
   "source": [
    "## Loading the dataset\n",
    "\n",
    "From the earlier chapters, you might recall that scikit-learn provides a whole range of\n",
    "handwritten digits via its `load_digits` utility function. The dataset consists of 1,797\n",
    "samples with 64 features each, where each of the features has the brightness of one pixel in\n",
    "an 8 x 8 image:"
   ]
  },
  {
   "cell_type": "code",
   "execution_count": 1,
   "metadata": {
    "collapsed": false,
    "deletable": true,
    "editable": true
   },
   "outputs": [
    {
     "data": {
      "text/plain": [
       "(1797, 64)"
      ]
     },
     "execution_count": 1,
     "metadata": {},
     "output_type": "execute_result"
    }
   ],
   "source": [
    "from sklearn.datasets import load_digits\n",
    "digits = load_digits()\n",
    "digits.data.shape"
   ]
  },
  {
   "cell_type": "markdown",
   "metadata": {},
   "source": [
    "## Running k-means\n",
    "\n",
    "Setting up $k$-means works exactly the same as in the previous examples. We tell the\n",
    "algorithm to perform at most 10 iterations and stop the process if our prediction of the\n",
    "cluster centers does not improve within a distance of 1.0:"
   ]
  },
  {
   "cell_type": "code",
   "execution_count": 2,
   "metadata": {
    "collapsed": true,
    "deletable": true,
    "editable": true
   },
   "outputs": [],
   "source": [
    "import cv2\n",
    "criteria = (cv2.TERM_CRITERIA_EPS + cv2.TERM_CRITERIA_MAX_ITER, 10, 1.0)\n",
    "flags = cv2.KMEANS_RANDOM_CENTERS"
   ]
  },
  {
   "cell_type": "markdown",
   "metadata": {},
   "source": [
    "Then we apply $k$-means to the data as we did before. Since there are 10 different digits (0-9),\n",
    "we tell the algorithm to look for 10 distinct clusters:"
   ]
  },
  {
   "cell_type": "code",
   "execution_count": 3,
   "metadata": {
    "collapsed": true,
    "deletable": true,
    "editable": true
   },
   "outputs": [],
   "source": [
    "import numpy as np\n",
    "compactness, clusters, centers = cv2.kmeans(digits.data.astype(np.float32), 10, None, criteria, 10, flags)"
   ]
  },
  {
   "cell_type": "markdown",
   "metadata": {},
   "source": [
    "And done!\n",
    "\n",
    "Similar to the $N \\times 3$ matrix that represented different RGB colors, this time, the centers array\n",
    "consists of $N \\times 8 \\times 8$ center images, where $N$ is the number of clusters. Therefore, if we want\n",
    "to plot the centers, we have to reshape the `centers` matrix back into 8 x 8 images:"
   ]
  },
  {
   "cell_type": "code",
   "execution_count": 4,
   "metadata": {
    "collapsed": false,
    "deletable": true,
    "editable": true
   },
   "outputs": [
    {
     "data": {
      "image/png": "[encoded data removed]",
      "text/plain": [
       "<matplotlib.figure.Figure at 0x1e277279ef0>"
      ]
     },
     "metadata": {},
     "output_type": "display_data"
    }
   ],
   "source": [
    "import matplotlib.pyplot as plt\n",
    "plt.style.use('ggplot')\n",
    "%matplotlib inline\n",
    "fig, ax = plt.subplots(2, 5, figsize=(10, 4))\n",
    "centers = centers.reshape(10, 8, 8)\n",
    "for axi, center in zip(ax.flat, centers):\n",
    "    axi.set(xticks=[], yticks=[])\n",
    "    axi.imshow(center, interpolation='nearest', cmap=plt.cm.binary)\n",
    "plt.savefig('digits.png')"
   ]
  },
  {
   "cell_type": "markdown",
   "metadata": {},
   "source": [
    "Look familiar?\n",
    "\n",
    "Remarkably, $k$-means was able to partition the digit images not just into any 10 random\n",
    "clusters, but into the digits 0-9! In order to find out which images were grouped into which\n",
    "clusters, we need to generate a labels vector as we know it from supervised learning\n",
    "problems:"
   ]
  },
  {
   "cell_type": "code",
   "execution_count": 5,
   "metadata": {
    "collapsed": false,
    "deletable": true,
    "editable": true
   },
   "outputs": [],
   "source": [
    "from scipy.stats import mode\n",
    "\n",
    "labels = np.zeros_like(clusters.ravel())\n",
    "for i in range(10):\n",
    "    mask = (clusters.ravel() == i)\n",
    "    labels[mask] = mode(digits.target[mask])[0]"
   ]
  },
  {
   "cell_type": "markdown",
   "metadata": {},
   "source": [
    "Then we can calculate the performance of the algorithm using scikit-learn's\n",
    "accuracy_score metric:"
   ]
  },
  {
   "cell_type": "code",
   "execution_count": 6,
   "metadata": {
    "collapsed": false,
    "deletable": true,
    "editable": true
   },
   "outputs": [
    {
     "data": {
      "text/plain": [
       "0.78464106844741233"
      ]
     },
     "execution_count": 6,
     "metadata": {},
     "output_type": "execute_result"
    }
   ],
   "source": [
    "from sklearn.metrics import accuracy_score\n",
    "accuracy_score(digits.target, labels)"
   ]
  },
  {
   "cell_type": "markdown",
   "metadata": {},
   "source": [
    "Remarkably, $k$-means achieved 78.4% accuracy without knowing the first thing about the\n",
    "labels of the original images!\n",
    "\n",
    "We can gain more insights about what went wrong and how by looking at the **confusion\n",
    "matrix**. The confusion matrix is a 2D matrix $C$, where every element $C_{i,j}$ is equal to the\n",
    "number of observations known to be in group (or cluster) $i$, but predicted to be in group $j$.\n",
    "Thus, all elements on the diagonal of the matrix represent data points that have been\n",
    "correctly classified (that is, known to be in group $i$ and predicted to be in group $i$). Off-diagonal\n",
    "elements show misclassifications.\n",
    "\n",
    "In scikit-learn, creating a confusion matrix is essentially a one-liner:"
   ]
  },
  {
   "cell_type": "code",
   "execution_count": 7,
   "metadata": {
    "collapsed": false,
    "deletable": true,
    "editable": true
   },
   "outputs": [
    {
     "data": {
      "text/plain": [
       "array([[177,   0,   0,   0,   1,   0,   0,   0,   0,   0],\n",
       "       [  0, 154,  25,   0,   0,   1,   2,   0,   0,   0],\n",
       "       [  1,   3, 147,  11,   0,   0,   0,   3,  12,   0],\n",
       "       [  0,   1,   2, 159,   0,   2,   0,   9,  10,   0],\n",
       "       [  0,  12,   0,   0, 162,   0,   0,   5,   2,   0],\n",
       "       [  0,   0,   0,  40,   2, 138,   2,   0,   0,   0],\n",
       "       [  1,   2,   0,   0,   0,   0, 177,   0,   1,   0],\n",
       "       [  0,  14,   0,   0,   0,   0,   0, 164,   1,   0],\n",
       "       [  0,  23,   3,   8,   0,   5,   1,   2, 132,   0],\n",
       "       [  0,  21,   0, 145,   0,   5,   0,   8,   1,   0]])"
      ]
     },
     "execution_count": 7,
     "metadata": {},
     "output_type": "execute_result"
    }
   ],
   "source": [
    "from sklearn.metrics import confusion_matrix\n",
    "confusion_matrix(digits.target, labels)"
   ]
  },
  {
   "cell_type": "markdown",
   "metadata": {},
   "source": [
    "The confusion matrix tells us that $k$-means did a pretty good job at classifying data points\n",
    "from the first nine classes; however, it confused all nines to be (mostly) threes. Still, this\n",
    "result is pretty solid, given that the algorithm had no target labels to be trained on."
   ]
  },
  {
   "cell_type": "markdown",
   "metadata": {
    "deletable": true,
    "editable": true
   },
   "source": [
    "<!--NAVIGATION-->\n",
    "< [Compressing Color Spaces Using k-Means](08.02-Compressing-Color-Images-Using-k-Means.ipynb) | [Contents](../README.md) | [Implementing Agglomerative Hierarchical Clustering](08.04-Implementing-Agglomerative-Hierarchical-Clustering.ipynb) >"
   ]
  }
 ],
 "metadata": {
  "kernelspec": {
   "display_name": "Python 3",
   "language": "python",
   "name": "python3"
  },
  "language_info": {
   "codemirror_mode": {
    "name": "ipython",
    "version": 3
   },
   "file_extension": ".py",
   "mimetype": "text/x-python",
   "name": "python",
   "nbconvert_exporter": "python",
   "pygments_lexer": "ipython3",
   "version": "3.5.3"
  }
 },
 "nbformat": 4,
 "nbformat_minor": 0
}
