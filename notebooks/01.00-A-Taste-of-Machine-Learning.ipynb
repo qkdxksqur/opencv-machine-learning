{
 "cells": [
  {
   "cell_type": "markdown",
   "metadata": {},
   "source": [
    "<!--BOOK_INFORMATION-->\n",
    "<img align=\"left\" style=\"padding-right:10px;\" src=\"figures/PDSH-cover-small.png\">\n",
    "*This notebook contains an excerpt from the book Machine Learning for OpenCV by Michael Beyeler; the content is available [on GitHub](https://github.com/mbeyeler/opencv-machine-learning).*\n",
    "\n",
    "*The text is released under the [CC-BY-NC-ND license](https://creativecommons.org/licenses/by-nc-nd/3.0/us/legalcode), and code is released under the [MIT license](https://opensource.org/licenses/MIT). If you find this content useful, please consider supporting the work by [buying the book](https://github.com/mbeyeler/opencv-machine-learning)!*"
   ]
  },
  {
   "cell_type": "markdown",
   "metadata": {},
   "source": [
    "<!--NAVIGATION-->\n",
    "< [None](00.00-Preface.ipynb) | [Contents](Index.ipynb) | [Working with Data in OpenCV](02.00-Working-with-Data-in-OpenCV.ipynb) >"
   ]
  },
  {
   "cell_type": "markdown",
   "metadata": {
    "collapsed": true
   },
   "source": [
    "# A Taste of Machine Learning\n",
    "\n",
    "## Installation\n",
    "\n",
    "Before we get started, let’s make sure we have all the tools and libraries installed that are\n",
    "necessary to create fully functioning data science environment. In this section we are going\n",
    "to install the following tools:\n",
    "- Python 3.5 or higher\n",
    "- OpenCV 3.1 or higher"
   ]
  },
  {
   "cell_type": "markdown",
   "metadata": {},
   "source": [
    "### Installing Python's Anaconda distribution\n",
    "\n",
    "Anaconda is a free Python distribution developed by Continuum Analytics that is made for\n",
    "scientific computing. It works across Windows, Linux, and Mac OS X platforms, and is free\n",
    "even for commercial use. But perhaps the best thing about it is that it comes with a number\n",
    "of pre-installed packages that are essential for data science, math, and engineering.\n",
    "\n",
    "An installer for your platform of choice (Windows, Mac OS X, or Linux) can be found on the\n",
    "Continuum website: https://www.continuum.io/Downloads. I recommend using the\n",
    "Python 3.6 based distribution, since Python 2 is no longer under active development.\n",
    "\n",
    "To run the installer, do one of the following:\n",
    "- On Windows, simply double-click the <tt>.exe</tt> file and follow the instructions on the\n",
    "  screen.\n",
    "- On Mac OS X, double-click the <tt>.pkg</tt> file and follow the instructions on the\n",
    "  screen.\n",
    "- On Linux, open a terminal and run the <tt>.sh</tt> script using bash:\n",
    "        $ bash Anaconda3-4.3.0-Linux-x86_64.sh # for Python 3.6 based Anaconda\n",
    "  $ bash Anaconda2-4.3.0-Linux-x64_64.sh # for Python 2.7 based Anaconda"
   ]
  },
  {
   "cell_type": "markdown",
   "metadata": {},
   "source": [
    "After successful installation, you can install new packages on the terminal using the\n",
    "following command:\n",
    "\n",
    "    $ conda install package_name\n",
    "    \n",
    "where <tt>package_name</tt> is the actual name of the package to be installed."
   ]
  },
  {
   "cell_type": "markdown",
   "metadata": {},
   "source": [
    "Existing packages can be updated using:\n",
    "    \n",
    "    $ conda update package_name"
   ]
  },
  {
   "cell_type": "markdown",
   "metadata": {},
   "source": [
    "## Installing OpenCV\n",
    "\n",
    "All we have left to do is to install OpenCV. With Python Anaconda, this is essentially a one-liner.\n",
    "\n",
    "First, you need to open a terminal:\n",
    "- On Windows 10, right-click the <tt>Start Menu</tt> button, and select <tt>Command Prompt</tt>.\n",
    "- On Mac OS X, press <tt>Cmd + Space</tt> to open spotlight search, then type <tt>terminal</tt> and\n",
    "  hit <tt>Enter</tt>.\n",
    "- On Ubuntu and friends, press <tt>Ctrl + Alt + T</tt>. On Red Hat, right-click on the\n",
    "  desktop and choose <tt>Open Terminal</tt> from the menu."
   ]
  },
  {
   "cell_type": "markdown",
   "metadata": {},
   "source": [
    "Then install OpenCV 3.1 using the conda command:\n",
    "\n",
    "    $ conda install opencv=3.1"
   ]
  },
  {
   "cell_type": "markdown",
   "metadata": {},
   "source": [
    "However, on Windows 10 you might get an error like this:\n",
    "    \n",
    "    Fetching package metadata .........\n",
    "    \n",
    "    PackageNotFoundError: Package not found: '' Package missing in current win-64 channels:\n",
    "        - opencv 3.1*"
   ]
  },
  {
   "cell_type": "markdown",
   "metadata": {},
   "source": [
    "That’s ok, because there is no standardized conda package for OpenCV 3.1 yet. Instead,\n",
    "simply search for available packages as suggested by the error message:\n",
    "\n",
    "    $ anaconda search -t conda opencv"
   ]
  },
  {
   "cell_type": "markdown",
   "metadata": {},
   "source": [
    "This will bring up a long list of users who have OpenCV packages installed. By inspecting\n",
    "the entry for the anaconda user, we can see the root of the problem: The package is only\n",
    "available for 32-bit Linux (linux-32), 64-bit Linux (linux-64), and 64-bit OS X (osx-64).\n",
    "\n",
    "That’s not really a problem though, because we can simply choose a different package that\n",
    "works for 64-bit Windows (win-64), such as the one provided by conda-forge:\n",
    "\n",
    "    $ conda install -c conda-forge opencv\n",
    "    \n",
    "And done!"
   ]
  },
  {
   "cell_type": "markdown",
   "metadata": {},
   "source": [
    "## Verify the installation\n",
    "\n",
    "It’s a good idea to double-check your installation.\n",
    "\n",
    "Try to import OpenCV using the following command:"
   ]
  },
  {
   "cell_type": "code",
   "execution_count": 1,
   "metadata": {
    "collapsed": true
   },
   "outputs": [],
   "source": [
    "import cv2"
   ]
  },
  {
   "cell_type": "markdown",
   "metadata": {},
   "source": [
    "You should get no error messages. Then try to find out the version number:"
   ]
  },
  {
   "cell_type": "code",
   "execution_count": 2,
   "metadata": {
    "collapsed": false
   },
   "outputs": [
    {
     "data": {
      "text/plain": [
       "'3.1.0'"
      ]
     },
     "execution_count": 2,
     "metadata": {},
     "output_type": "execute_result"
    }
   ],
   "source": [
    "cv2.__version__"
   ]
  },
  {
   "cell_type": "markdown",
   "metadata": {},
   "source": [
    "Make sure that the Python version reads 3.5, and not 2.7. Also, make sure that importing\n",
    "cv2 does not give you any error messages, and that the version number reads 3.1.0."
   ]
  },
  {
   "cell_type": "markdown",
   "metadata": {},
   "source": [
    "<!--NAVIGATION-->\n",
    "< [None](00.00-Preface.ipynb) | [Contents](Index.ipynb) | [Working with Data in OpenCV](02.00-Working-with-Data-in-OpenCV.ipynb) >"
   ]
  }
 ],
 "metadata": {
  "kernelspec": {
   "display_name": "Python [Root]",
   "language": "python",
   "name": "Python [Root]"
  },
  "language_info": {
   "codemirror_mode": {
    "name": "ipython",
    "version": 3
   },
   "file_extension": ".py",
   "mimetype": "text/x-python",
   "name": "python",
   "nbconvert_exporter": "python",
   "pygments_lexer": "ipython3",
   "version": "3.5.2"
  }
 },
 "nbformat": 4,
 "nbformat_minor": 0
}
