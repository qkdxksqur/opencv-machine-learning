{
 "cells": [
  {
   "cell_type": "markdown",
   "metadata": {
    "deletable": true,
    "editable": true
   },
   "source": [
    "<!--BOOK_INFORMATION-->\n",
    "<img align=\"left\" src=\"\" style=\"width: 76px; height: 100px; background: gray; padding-right:10px;\">\n",
    "*This notebook contains an excerpt from the upcoming book Machine Learning for OpenCV by Michael Beyeler. The content is available [on GitHub](https://github.com/mbeyeler/opencv-machine-learning).*\n",
    "\n",
    "*The code is released under the [MIT license](https://opensource.org/licenses/MIT). This excerpt contains only the raw code - the book is rich with additional explanations and illustrations. If you find this content useful, please consider supporting the work by [buying the book](https://github.com/mbeyeler/opencv-machine-learning)!*"
   ]
  },
  {
   "cell_type": "markdown",
   "metadata": {
    "deletable": true,
    "editable": true
   },
   "source": [
    "<!--NAVIGATION-->\n",
    "< [# Scoring classifiers using accuracy, precision, and recall](03.00-First-Steps-in-Supervised-Learning.ipynb) | [Contents](../README.md) | [Logistic Regression](03.02-Logistic-Regression.ipynb) >"
   ]
  },
  {
   "cell_type": "markdown",
   "metadata": {
    "deletable": true,
    "editable": true
   },
   "source": [
    "# The k-Nearest Neighbor Classifier\n",
    "\n",
    "Using OpenCV, we can easily create a k-NN model via the function cv2.ml.KNearest_create(). Building the model then involves the following steps:\n",
    "- Generate some training data.\n",
    "- Create a k-NN object for a given number k.\n",
    "- Find the k nearest neighbors of a new data point that we want to classify.\n",
    "- Assign the class label of the new data point by majority vote.\n",
    "- Plot the result."
   ]
  },
  {
   "cell_type": "code",
   "execution_count": 1,
   "metadata": {
    "collapsed": true,
    "deletable": true,
    "editable": true
   },
   "outputs": [],
   "source": [
    "import numpy as np\n",
    "import cv2\n",
    "\n",
    "import matplotlib.pyplot as plt\n",
    "%matplotlib inline"
   ]
  },
  {
   "cell_type": "code",
   "execution_count": 2,
   "metadata": {
    "collapsed": true,
    "deletable": true,
    "editable": true
   },
   "outputs": [],
   "source": [
    "plt.style.use('ggplot')"
   ]
  },
  {
   "cell_type": "code",
   "execution_count": 3,
   "metadata": {
    "collapsed": true,
    "deletable": true,
    "editable": true
   },
   "outputs": [],
   "source": [
    "np.random.seed(42)"
   ]
  },
  {
   "cell_type": "markdown",
   "metadata": {
    "deletable": true,
    "editable": true
   },
   "source": [
    "### Generating the training data\n",
    "\n",
    "Pick a single data point with `0 <= x <= 100` and `0 <= y <= 100`:"
   ]
  },
  {
   "cell_type": "code",
   "execution_count": 4,
   "metadata": {
    "collapsed": false,
    "deletable": true,
    "editable": true
   },
   "outputs": [
    {
     "data": {
      "text/plain": [
       "array([51, 92])"
      ]
     },
     "execution_count": 4,
     "metadata": {},
     "output_type": "execute_result"
    }
   ],
   "source": [
    "single_data_point = np.random.randint(0, 100, 2)\n",
    "single_data_point"
   ]
  },
  {
   "cell_type": "markdown",
   "metadata": {},
   "source": [
    "Assign a random label, either 0 or 1:"
   ]
  },
  {
   "cell_type": "code",
   "execution_count": 5,
   "metadata": {
    "collapsed": false,
    "deletable": true,
    "editable": true
   },
   "outputs": [
    {
     "data": {
      "text/plain": [
       "0"
      ]
     },
     "execution_count": 5,
     "metadata": {},
     "output_type": "execute_result"
    }
   ],
   "source": [
    "single_label = np.random.randint(0, 2)\n",
    "single_label"
   ]
  },
  {
   "cell_type": "markdown",
   "metadata": {},
   "source": [
    "Wrap the above in a function that can generate data:"
   ]
  },
  {
   "cell_type": "code",
   "execution_count": 6,
   "metadata": {
    "collapsed": true,
    "deletable": true,
    "editable": true
   },
   "outputs": [],
   "source": [
    "def generate_data(num_samples, num_features=2):\n",
    "    \"\"\"Randomly generates a number of data points\"\"\"\n",
    "    data_size = (num_samples, num_features)\n",
    "    train_data = np.random.randint(0, 100, size=data_size)\n",
    "    labels_size = (num_samples, 1)\n",
    "    labels = np.random.randint(0, 2, size=labels_size)\n",
    "    \n",
    "    return train_data.astype(np.float32), labels"
   ]
  },
  {
   "cell_type": "markdown",
   "metadata": {},
   "source": [
    "Use the function to generate a training set:"
   ]
  },
  {
   "cell_type": "code",
   "execution_count": 7,
   "metadata": {
    "collapsed": false,
    "deletable": true,
    "editable": true
   },
   "outputs": [
    {
     "data": {
      "text/plain": [
       "array([[ 71.,  60.],\n",
       "       [ 20.,  82.],\n",
       "       [ 86.,  74.],\n",
       "       [ 74.,  87.],\n",
       "       [ 99.,  23.],\n",
       "       [  2.,  21.],\n",
       "       [ 52.,   1.],\n",
       "       [ 87.,  29.],\n",
       "       [ 37.,   1.],\n",
       "       [ 63.,  59.],\n",
       "       [ 20.,  32.]], dtype=float32)"
      ]
     },
     "execution_count": 7,
     "metadata": {},
     "output_type": "execute_result"
    }
   ],
   "source": [
    "train_data, labels = generate_data(11)\n",
    "train_data"
   ]
  },
  {
   "cell_type": "markdown",
   "metadata": {},
   "source": [
    "Inspect the first data point:"
   ]
  },
  {
   "cell_type": "code",
   "execution_count": 8,
   "metadata": {
    "collapsed": false,
    "deletable": true,
    "editable": true
   },
   "outputs": [
    {
     "data": {
      "text/plain": [
       "(array([ 71.,  60.], dtype=float32), array([1]))"
      ]
     },
     "execution_count": 8,
     "metadata": {},
     "output_type": "execute_result"
    }
   ],
   "source": [
    "train_data[0], labels[0]"
   ]
  },
  {
   "cell_type": "markdown",
   "metadata": {},
   "source": [
    "Visualize the data point:"
   ]
  },
  {
   "cell_type": "code",
   "execution_count": 9,
   "metadata": {
    "collapsed": false,
    "deletable": true,
    "editable": true
   },
   "outputs": [
    {
     "data": {
      "image/png": "[encoded data removed]",
      "text/plain": [
       "<matplotlib.figure.Figure at 0x24ff2ad4080>"
      ]
     },
     "metadata": {},
     "output_type": "display_data"
    }
   ],
   "source": [
    "plt.plot(train_data[0, 0], train_data[0, 1], 'sb')\n",
    "plt.xlabel('x coordinate')\n",
    "plt.ylabel('y coordinate')\n",
    "plt.savefig('plot_single.png')"
   ]
  },
  {
   "cell_type": "markdown",
   "metadata": {},
   "source": [
    "Write a function that can visualize all data points:"
   ]
  },
  {
   "cell_type": "code",
   "execution_count": 10,
   "metadata": {
    "collapsed": true,
    "deletable": true,
    "editable": true
   },
   "outputs": [],
   "source": [
    "def plot_data(all_blue, all_red):\n",
    "    plt.figure(figsize=(10, 6))\n",
    "    plt.scatter(all_blue[:, 0], all_blue[:, 1], c='b', marker='s', s=180)\n",
    "    plt.scatter(all_red[:, 0], all_red[:, 1], c='r', marker='^', s=180)\n",
    "    plt.xlabel('x coordinate (feature 1)')\n",
    "    plt.ylabel('y coordinate (feature 2)')"
   ]
  },
  {
   "cell_type": "markdown",
   "metadata": {},
   "source": [
    "Split the data into blues and reds:"
   ]
  },
  {
   "cell_type": "code",
   "execution_count": 11,
   "metadata": {
    "collapsed": false,
    "deletable": true,
    "editable": true
   },
   "outputs": [
    {
     "data": {
      "text/plain": [
       "array([False, False, False,  True, False,  True,  True,  True,  True,\n",
       "        True, False], dtype=bool)"
      ]
     },
     "execution_count": 11,
     "metadata": {},
     "output_type": "execute_result"
    }
   ],
   "source": [
    "labels.ravel() == 0"
   ]
  },
  {
   "cell_type": "code",
   "execution_count": 12,
   "metadata": {
    "collapsed": true,
    "deletable": true,
    "editable": true
   },
   "outputs": [],
   "source": [
    "blue = train_data[labels.ravel() == 0]"
   ]
  },
  {
   "cell_type": "code",
   "execution_count": 13,
   "metadata": {
    "collapsed": false,
    "deletable": true,
    "editable": true
   },
   "outputs": [],
   "source": [
    "red = train_data[labels.ravel() == 1]"
   ]
  },
  {
   "cell_type": "markdown",
   "metadata": {},
   "source": [
    "Plot the data:"
   ]
  },
  {
   "cell_type": "code",
   "execution_count": 14,
   "metadata": {
    "collapsed": false,
    "deletable": true,
    "editable": true
   },
   "outputs": [
    {
     "data": {
      "image/png": "[encoded data removed]",
      "text/plain": [
       "<matplotlib.figure.Figure at 0x24ff2ebef28>"
      ]
     },
     "metadata": {},
     "output_type": "display_data"
    }
   ],
   "source": [
    "plot_data(blue, red)\n",
    "plt.savefig('plot_data.png')"
   ]
  },
  {
   "cell_type": "markdown",
   "metadata": {
    "deletable": true,
    "editable": true
   },
   "source": [
    "### Training the classifier\n",
    "\n",
    "As all other machine learning functions, the k-NN classifier is part of OpenCV 3.1's ml module. You can create a new classifier using the following command:"
   ]
  },
  {
   "cell_type": "code",
   "execution_count": 15,
   "metadata": {
    "collapsed": true,
    "deletable": true,
    "editable": true
   },
   "outputs": [],
   "source": [
    "knn = cv2.ml.KNearest_create()"
   ]
  },
  {
   "cell_type": "markdown",
   "metadata": {},
   "source": [
    "We then simply pass our training data to the train method:"
   ]
  },
  {
   "cell_type": "code",
   "execution_count": 16,
   "metadata": {
    "collapsed": false,
    "deletable": true,
    "editable": true
   },
   "outputs": [
    {
     "data": {
      "text/plain": [
       "True"
      ]
     },
     "execution_count": 16,
     "metadata": {},
     "output_type": "execute_result"
    }
   ],
   "source": [
    "knn.train(train_data, cv2.ml.ROW_SAMPLE, labels)"
   ]
  },
  {
   "cell_type": "code",
   "execution_count": 17,
   "metadata": {
    "collapsed": false,
    "deletable": true,
    "editable": true
   },
   "outputs": [
    {
     "data": {
      "text/plain": [
       "array([[ 91.,  59.]], dtype=float32)"
      ]
     },
     "execution_count": 17,
     "metadata": {},
     "output_type": "execute_result"
    }
   ],
   "source": [
    "newcomer, _ = generate_data(1)\n",
    "newcomer"
   ]
  },
  {
   "cell_type": "markdown",
   "metadata": {},
   "source": [
    "What about a new data point?"
   ]
  },
  {
   "cell_type": "code",
   "execution_count": 18,
   "metadata": {
    "collapsed": false,
    "deletable": true,
    "editable": true
   },
   "outputs": [
    {
     "data": {
      "text/plain": [
       "[<matplotlib.lines.Line2D at 0x24ff2e6b8d0>]"
      ]
     },
     "execution_count": 18,
     "metadata": {},
     "output_type": "execute_result"
    },
    {
     "data": {
      "image/png": "[encoded data removed]",
      "text/plain": [
       "<matplotlib.figure.Figure at 0x24ff2e6b898>"
      ]
     },
     "metadata": {},
     "output_type": "display_data"
    }
   ],
   "source": [
    "plot_data(blue, red)\n",
    "plt.plot(newcomer[0, 0], newcomer[0, 1], 'go', markersize=14)"
   ]
  },
  {
   "cell_type": "markdown",
   "metadata": {},
   "source": [
    "Predicting the label of the new data point using `k=1`:"
   ]
  },
  {
   "cell_type": "code",
   "execution_count": 19,
   "metadata": {
    "collapsed": false,
    "deletable": true,
    "editable": true
   },
   "outputs": [
    {
     "name": "stdout",
     "output_type": "stream",
     "text": [
      "Predicted label:\t [[ 1.]]\n",
      "Neighbor's label:\t [[ 1.]]\n",
      "Distance to neighbor:\t [[ 250.]]\n"
     ]
    }
   ],
   "source": [
    "ret, results, neighbor, dist = knn.findNearest(newcomer, 1)\n",
    "print(\"Predicted label:\\t\", results)\n",
    "print(\"Neighbor's label:\\t\", neighbor)\n",
    "print(\"Distance to neighbor:\\t\", dist)"
   ]
  },
  {
   "cell_type": "markdown",
   "metadata": {},
   "source": [
    "Predicting the label of the new data point using `k=7`:"
   ]
  },
  {
   "cell_type": "code",
   "execution_count": 20,
   "metadata": {
    "collapsed": false,
    "deletable": true,
    "editable": true
   },
   "outputs": [
    {
     "name": "stdout",
     "output_type": "stream",
     "text": [
      "Predicted label:\t [[ 0.]]\n",
      "Neighbor's label:\t [[ 1.  1.  0.  0.  0.  1.  0.]]\n",
      "Distance to neighbor:\t [[  250.   401.   784.   916.  1073.  1360.  4885.]]\n"
     ]
    }
   ],
   "source": [
    "ret, results, neighbor, dist = knn.findNearest(newcomer, 7)\n",
    "print(\"Predicted label:\\t\", results)\n",
    "print(\"Neighbor's label:\\t\", neighbor)\n",
    "print(\"Distance to neighbor:\\t\", dist)"
   ]
  },
  {
   "cell_type": "markdown",
   "metadata": {},
   "source": [
    "Predicting the label of the new data point using `k=7` (careful, there's a tie!)"
   ]
  },
  {
   "cell_type": "code",
   "execution_count": 21,
   "metadata": {
    "collapsed": false,
    "deletable": true,
    "editable": true
   },
   "outputs": [
    {
     "name": "stdout",
     "output_type": "stream",
     "text": [
      "Predicted label:\t [[ 0.]]\n",
      "Neighbors' labels:\t [[ 1.  1.  0.  0.  0.  1.]]\n",
      "Distance to neighbors:\t [[  250.   401.   784.   916.  1073.  1360.]]\n"
     ]
    }
   ],
   "source": [
    "ret, results, neighbors, dist = knn.findNearest(newcomer, 6)\n",
    "print(\"Predicted label:\\t\", results)\n",
    "print(\"Neighbors' labels:\\t\", neighbors)\n",
    "print(\"Distance to neighbors:\\t\", dist)"
   ]
  },
  {
   "cell_type": "markdown",
   "metadata": {},
   "source": [
    "Alternatively, predictions can be made with the `predict` method. But first, need to set `k`:"
   ]
  },
  {
   "cell_type": "code",
   "execution_count": 22,
   "metadata": {
    "collapsed": false,
    "deletable": true,
    "editable": true
   },
   "outputs": [
    {
     "data": {
      "text/plain": [
       "(0.0, array([[ 0.]], dtype=float32))"
      ]
     },
     "execution_count": 22,
     "metadata": {},
     "output_type": "execute_result"
    }
   ],
   "source": [
    "knn.setDefaultK(7)\n",
    "knn.predict(newcomer)"
   ]
  },
  {
   "cell_type": "code",
   "execution_count": 23,
   "metadata": {
    "collapsed": false,
    "deletable": true,
    "editable": true
   },
   "outputs": [
    {
     "data": {
      "text/plain": [
       "(0.0, array([[ 0.]], dtype=float32))"
      ]
     },
     "execution_count": 23,
     "metadata": {},
     "output_type": "execute_result"
    }
   ],
   "source": [
    "knn.setDefaultK(6)\n",
    "knn.predict(newcomer)"
   ]
  },
  {
   "cell_type": "markdown",
   "metadata": {
    "deletable": true,
    "editable": true
   },
   "source": [
    "<!--NAVIGATION-->\n",
    "< [# Scoring classifiers using accuracy, precision, and recall](03.00-First-Steps-in-Supervised-Learning.ipynb) | [Contents](../README.md) | [Logistic Regression](03.02-Logistic-Regression.ipynb) >"
   ]
  }
 ],
 "metadata": {
  "kernelspec": {
   "display_name": "Python 3",
   "language": "python",
   "name": "python3"
  },
  "language_info": {
   "codemirror_mode": {
    "name": "ipython",
    "version": 3
   },
   "file_extension": ".py",
   "mimetype": "text/x-python",
   "name": "python",
   "nbconvert_exporter": "python",
   "pygments_lexer": "ipython3",
   "version": "3.5.3"
  }
 },
 "nbformat": 4,
 "nbformat_minor": 0
}
