{
 "cells": [
  {
   "cell_type": "markdown",
   "metadata": {
    "deletable": true,
    "editable": true
   },
   "source": [
    "<!--BOOK_INFORMATION-->\n",
    "<img align=\"left\" src=\"data/cover.jpg\" style=\"width: 76px; height: 100px; background: white; padding: 1px; border: 1px solid black; margin-right:10px;\">\n",
    "*This notebook contains an excerpt from the upcoming book [Machine Learning for OpenCV](https://www.packtpub.com/big-data-and-business-intelligence/machine-learning-opencv) by Michael Beyeler (expected Aug 2017).\n",
    "The code is released under the [MIT license](https://opensource.org/licenses/MIT),\n",
    "and is available on [GitHub](https://github.com/mbeyeler/opencv-machine-learning).*\n",
    "\n",
    "*Note that this excerpt contains only the raw code - the book is rich with additional explanations and illustrations.\n",
    "If you find this content useful, please consider supporting the work by\n",
    "[buying the book](https://github.com/mbeyeler/opencv-machine-learning)!*"
   ]
  },
  {
   "cell_type": "markdown",
   "metadata": {
    "deletable": true,
    "editable": true
   },
   "source": [
    "<!--NAVIGATION-->\n",
    "< [# Ridge regression](03.04-Ridge-Regression.ipynb) | [Contents](../README.md) | [Preprocessing Data](04.01-Preprocessing-Data.ipynb) >"
   ]
  },
  {
   "cell_type": "markdown",
   "metadata": {
    "collapsed": true,
    "deletable": true,
    "editable": true
   },
   "source": [
    "# Representing Data and Engineering Features\n",
    "\n",
    "Feature engineering comes in two stages:\n",
    "\n",
    "- *Feature selection*: This is the process of identifying important attributes (or\n",
    "  features) in the data. Possible features of an image might be the location of edges,\n",
    "  corners, or ridges. In this chapter, we will look at some of the more advanced\n",
    "  feature descriptors that OpenCV provides, such as the Scale-Invariant Feature\n",
    "  Transform (SIFT) and Speeded Up Robust Features (SURF).\n",
    "- *Feature extraction*: This is the actual process of transforming the raw data into\n",
    "  the desired feature space used to feed a machine learning algorithm as illustrated\n",
    "  in the figure above. An example would be the Harris operator, which allows you\n",
    "  to extract corners (that is, a selected feature) in an image."
   ]
  },
  {
   "cell_type": "markdown",
   "metadata": {},
   "source": [
    "## Preprocessing Data\n",
    "\n",
    "The preprocessing pipeline:\n",
    "\n",
    "- *Data formatting*: The data may not be in a format that is suitable for you to work\n",
    "  with. For example, the data might be provided in a proprietary file format, which\n",
    "  your favorite machine learning algorithm does not understand.\n",
    "- *Data cleaning*: The data may contain invalid or missing entries, which need to be\n",
    "  cleaned up or removed.\n",
    "- *Data sampling*: The data may be far too numerous for your specific purpose,\n",
    "  forcing you to sample the data in a smart way."
   ]
  },
  {
   "cell_type": "markdown",
   "metadata": {},
   "source": [
    "## Transforming Data\n",
    "\n",
    "Once the data has been preprocessed, you are ready for the actual feature engineering: to transform the\n",
    "preprocessed data to fit your specific machine learning algorithm. This step usually involves one or more of\n",
    "three possible procedures:\n",
    "\n",
    "- *Scaling*: Machine learning algorithms often require the data to be within a\n",
    "  common range, such as to have zero mean and unit variance. Scaling is the\n",
    "  process of bringing all features (which might have different physical units) into a\n",
    "  common range of values.\n",
    "- *Decomposition*: Datasets often have many more features than you could possibly\n",
    "  process. Feature decomposition is the process of compressing data into a smaller\n",
    "  number of highly informative data components.\n",
    "- *Aggregation*: There may be features that can be aggregated into a single feature\n",
    "  that would be more meaningful to the problem you are trying to solve. For\n",
    "  example, a database might contain the date and time each user logged into a webbased\n",
    "  system. Depending on the task, this data might be better represented by\n",
    "  simply counting the number of logins per user. "
   ]
  },
  {
   "cell_type": "markdown",
   "metadata": {
    "deletable": true,
    "editable": true
   },
   "source": [
    "<!--NAVIGATION-->\n",
    "< [# Ridge regression](03.04-Ridge-Regression.ipynb) | [Contents](../README.md) | [Preprocessing Data](04.01-Preprocessing-Data.ipynb) >"
   ]
  }
 ],
 "metadata": {
  "kernelspec": {
   "display_name": "Python 3",
   "language": "python",
   "name": "python3"
  },
  "language_info": {
   "codemirror_mode": {
    "name": "ipython",
    "version": 3
   },
   "file_extension": ".py",
   "mimetype": "text/x-python",
   "name": "python",
   "nbconvert_exporter": "python",
   "pygments_lexer": "ipython3",
   "version": "3.5.3"
  }
 },
 "nbformat": 4,
 "nbformat_minor": 0
}
