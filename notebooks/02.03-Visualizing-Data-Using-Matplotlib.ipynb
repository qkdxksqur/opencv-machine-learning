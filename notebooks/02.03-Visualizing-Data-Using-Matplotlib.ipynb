{
 "cells": [
  {
   "cell_type": "markdown",
   "metadata": {},
   "source": [
    "<!--BOOK_INFORMATION-->\n",
    "<a href=\"https://www.packtpub.com/big-data-and-business-intelligence/machine-learning-opencv\" target=\"_blank\"><img align=\"left\" src=\"data/cover.jpg\" style=\"width: 76px; height: 100px; background: white; padding: 1px; border: 1px solid black; margin-right:10px;\"></a>\n",
    "*This notebook contains an excerpt from the book [Machine Learning for OpenCV](https://www.packtpub.com/big-data-and-business-intelligence/machine-learning-opencv) by Michael Beyeler.\n",
    "The code is released under the [MIT license](https://opensource.org/licenses/MIT),\n",
    "and is available on [GitHub](https://github.com/mbeyeler/opencv-machine-learning).*\n",
    "\n",
    "*Note that this excerpt contains only the raw code - the book is rich with additional explanations and illustrations.\n",
    "If you find this content useful, please consider supporting the work by\n",
    "[buying the book](https://www.packtpub.com/big-data-and-business-intelligence/machine-learning-opencv)!*"
   ]
  },
  {
   "cell_type": "markdown",
   "metadata": {},
   "source": [
    "<!--NAVIGATION-->\n",
    "< [Loading External Datasets in Python](02.02-Loading-External-Datasets-in-Python.ipynb) | [Contents](../README.md) | [Visualizing Data from an External Dataset](02.04-Visualizing-Data-from-an-External-Dataset.ipynb) >"
   ]
  },
  {
   "cell_type": "markdown",
   "metadata": {},
   "source": [
    "# Visualizing Data Using Matplotlib\n",
    "\n",
    "Knowing how to load data is of limited use if we don't know how to look at the data.\n",
    "Thankfully, there is **Matplotlib**!\n",
    "\n",
    "Matplotlib is a multiplatform data visualization library built on NumPy arrays—see, I\n",
    "promised you NumPy would show up again. It was conceived by John Hunter in 2002,\n",
    "originally designed as a patch to IPython to enable interactive MATLAB-style plotting from\n",
    "the command line. In more recent years, newer and shinier tools have popped up to\n",
    "eventually replace Matplotlib (such as `ggplot` and `ggvis` in the R language), but\n",
    "Matplotlib remains essential as a well-tested, cross-platform graphics engine."
   ]
  },
  {
   "cell_type": "markdown",
   "metadata": {},
   "source": [
    "## Importing matplotlib\n",
    "\n",
    "You might be in luck again: if you followed the advice outlined in the previous chapter and\n",
    "installed the Python Anaconda stack, you already have Matplotlib installed and are ready\n",
    "to go. Otherwise, you might want to visit http://matplotlib.org for installation\n",
    "instructions.\n",
    "\n",
    "Just as we used <tt>np</tt> shorthand for NumPy, we will use some standard shorthands for the Matplotlib imports:"
   ]
  },
  {
   "cell_type": "code",
   "execution_count": 1,
   "metadata": {
    "collapsed": true
   },
   "outputs": [],
   "source": [
    "import matplotlib as mpl"
   ]
  },
  {
   "cell_type": "code",
   "execution_count": 2,
   "metadata": {
    "collapsed": true
   },
   "outputs": [],
   "source": [
    "import matplotlib.pyplot as plt"
   ]
  },
  {
   "cell_type": "markdown",
   "metadata": {},
   "source": [
    "The <tt>plt</tt> interface is what we will use most often, as we shall see throughout the book."
   ]
  },
  {
   "cell_type": "markdown",
   "metadata": {},
   "source": [
    "## Producing a simple plot\n",
    "\n",
    "Without further ado, let's create our first plot.\n",
    "\n",
    "Let's say we want to produce a simple line plot of the sine function, <tt>sin(x)</tt>. We want the function to be evaluated at all points on the x axis where $0 \\leq x < 10$. We will use NumPy's <tt>linspace</tt> function to create a linear spacing on the x axis, from x values 0 to 10, and a total of 100 sampling points:"
   ]
  },
  {
   "cell_type": "code",
   "execution_count": 3,
   "metadata": {
    "collapsed": true
   },
   "outputs": [],
   "source": [
    "import numpy as np"
   ]
  },
  {
   "cell_type": "code",
   "execution_count": 4,
   "metadata": {
    "collapsed": true
   },
   "outputs": [],
   "source": [
    "x = np.linspace(0, 10, 100)"
   ]
  },
  {
   "cell_type": "markdown",
   "metadata": {},
   "source": [
    "We can evaluate the sine function at all points `x` using NumPy's `sin` function, and visualize the result by calling `plt`'s `plot` function:"
   ]
  },
  {
   "cell_type": "code",
   "execution_count": 5,
   "metadata": {},
   "outputs": [
    {
     "data": {
      "text/plain": [
       "[<matplotlib.lines.Line2D at 0x7f5af7400748>]"
      ]
     },
     "execution_count": 5,
     "metadata": {},
     "output_type": "execute_result"
    }
   ],
   "source": [
    "plt.plot(x, np.sin(x))"
   ]
  },
  {
   "cell_type": "markdown",
   "metadata": {},
   "source": [
    "Did you try it yourself? What happened? Did anything show up?"
   ]
  },
  {
   "cell_type": "markdown",
   "metadata": {},
   "source": [
    "In order for the plot to show up, we need to add some IPython magic. There are two options:\n",
    "- <tt>%matplotlib notebook</tt> will lead to interactive plots\n",
    "- <tt>%matplotlib inline</tt> will lead to static images of your plots\n",
    "\n",
    "Check page 37 in the book to find out how to plot from a `.py` script or from within IPython."
   ]
  },
  {
   "cell_type": "markdown",
   "metadata": {},
   "source": [
    "In this book, we will generally opt for the inline option:"
   ]
  },
  {
   "cell_type": "code",
   "execution_count": 6,
   "metadata": {
    "collapsed": true
   },
   "outputs": [],
   "source": [
    "%matplotlib inline"
   ]
  },
  {
   "cell_type": "markdown",
   "metadata": {},
   "source": [
    "Now let's try this again:"
   ]
  },
  {
   "cell_type": "code",
   "execution_count": 7,
   "metadata": {},
   "outputs": [
    {
     "data": {
      "text/plain": [
       "[<matplotlib.lines.Line2D at 0x7f5af706d748>]"
      ]
     },
     "execution_count": 7,
     "metadata": {},
     "output_type": "execute_result"
    },
    {
     "data": {
      "image/png": "[encoded data removed]",
      "text/plain": [
       "<matplotlib.figure.Figure at 0x7f5af7110240>"
      ]
     },
     "metadata": {},
     "output_type": "display_data"
    }
   ],
   "source": [
    "plt.plot(x, np.sin(x))"
   ]
  },
  {
   "cell_type": "markdown",
   "metadata": {},
   "source": [
    "If you want to save the figure for later, you have the option to do so directly from within the Jupyter Notebook:"
   ]
  },
  {
   "cell_type": "code",
   "execution_count": 8,
   "metadata": {},
   "outputs": [
    {
     "data": {
      "text/plain": [
       "<matplotlib.figure.Figure at 0x7f5af7136748>"
      ]
     },
     "metadata": {},
     "output_type": "display_data"
    }
   ],
   "source": [
    "plt.savefig('figures/02.03-sine.png')"
   ]
  },
  {
   "cell_type": "markdown",
   "metadata": {},
   "source": [
    "<!--NAVIGATION-->\n",
    "< [Loading External Datasets in Python](02.02-Loading-External-Datasets-in-Python.ipynb) | [Contents](../README.md) | [Visualizing Data from an External Dataset](02.04-Visualizing-Data-from-an-External-Dataset.ipynb) >"
   ]
  }
 ],
 "metadata": {
  "anaconda-cloud": {},
  "kernelspec": {
   "display_name": "Python 3",
   "language": "python",
   "name": "python3"
  },
  "language_info": {
   "codemirror_mode": {
    "name": "ipython",
    "version": 3
   },
   "file_extension": ".py",
   "mimetype": "text/x-python",
   "name": "python",
   "nbconvert_exporter": "python",
   "pygments_lexer": "ipython3",
   "version": "3.5.3"
  }
 },
 "nbformat": 4,
 "nbformat_minor": 1
}
